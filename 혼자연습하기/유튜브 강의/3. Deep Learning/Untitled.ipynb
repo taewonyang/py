{
 "cells": [
  {
   "cell_type": "code",
   "execution_count": 9,
   "metadata": {},
   "outputs": [],
   "source": [
    "import numpy as np\n",
    "\n",
    "def sig(x) :\n",
    "    result = 1 / (1+np.exp(-x))\n",
    "    return result\n",
    "\n",
    "def activate (x, w, a) :\n",
    "    x1 = np.matmul(w, x) + a\n",
    "    x2 = sig(x1)"
   ]
  },
  {
   "cell_type": "code",
   "execution_count": 15,
   "metadata": {},
   "outputs": [],
   "source": [
    "x = 0.87, 0.97, 0.97, 0.98\n",
    "w1 = np.array([\n",
    "    [-4.302, -5.578, -2.296, -1.294],\n",
    "    [ 0.233, -3.465, -0.199, -1.105],\n",
    "    [ 0.606,  1.316,  0.317,  0.494],\n",
    "    [ 0.458, 0.873, 0.315, 0.806],\n",
    "    [-1.439, -2.01, 2.421, -1.977],\n",
    "])\n",
    "a1 = [10.799, 3.502, 1.372, 0.705, 0.973]\n",
    "\n",
    "w2 = np.array([\n",
    "    [-9.241, -3.807, 2.043, 2.45, -1.698],\n",
    "    [9.368, 3.75, -2.172, -2.487, 2.476]\n",
    "])\n",
    "\n",
    "a2 = [1.401, -1.447]"
   ]
  },
  {
   "cell_type": "code",
   "execution_count": 16,
   "metadata": {},
   "outputs": [
    {
     "data": {
      "text/plain": [
       "array([0.13591517, 0.28246441, 0.98142793, 0.95459652, 0.13970768])"
      ]
     },
     "execution_count": 16,
     "metadata": {},
     "output_type": "execute_result"
    }
   ],
   "source": [
    "result1 = activate(x, w1, a1)\n",
    "result1"
   ]
  },
  {
   "cell_type": "code",
   "execution_count": 17,
   "metadata": {},
   "outputs": [
    {
     "data": {
      "text/plain": [
       "array([0.9599311 , 0.03646233])"
      ]
     },
     "execution_count": 17,
     "metadata": {},
     "output_type": "execute_result"
    }
   ],
   "source": [
    "activate(result1, w2,a2)"
   ]
  },
  {
   "cell_type": "code",
   "execution_count": null,
   "metadata": {},
   "outputs": [],
   "source": []
  },
  {
   "cell_type": "code",
   "execution_count": 18,
   "metadata": {},
   "outputs": [],
   "source": [
    "import numpy as np\n",
    "import pandas as pd\n",
    "\n",
    "def sig(x) :\n",
    "    result = 1 / (1+np.exp(-x))\n",
    "    return result\n",
    "\n",
    "def activate2 (x,w,a) :\n",
    "    x1 = np.matmul(w,x) + a\n",
    "    x2 = sig(x1)\n",
    "    return x1, x2"
   ]
  },
  {
   "cell_type": "code",
   "execution_count": 19,
   "metadata": {},
   "outputs": [],
   "source": [
    "gob_hab1, ugyu1 = activate2(x, w1, a1)\n",
    "gob_hab2, ugyu2 = activate2(ugyu1, w2, a2)"
   ]
  },
  {
   "cell_type": "code",
   "execution_count": 20,
   "metadata": {},
   "outputs": [
    {
     "data": {
      "text/plain": [
       "(array([-1.84964, -0.93227,  3.96735,  3.0457 , -1.81772]),\n",
       " array([0.13591517, 0.28246441, 0.98142793, 0.95459652, 0.13970768]))"
      ]
     },
     "execution_count": 20,
     "metadata": {},
     "output_type": "execute_result"
    }
   ],
   "source": [
    "gob_hab1, ugyu1"
   ]
  },
  {
   "cell_type": "code",
   "execution_count": 21,
   "metadata": {},
   "outputs": [
    {
     "data": {
      "text/plain": [
       "(array([ 3.17626101, -3.27433196]), array([0.9599311 , 0.03646233]))"
      ]
     },
     "execution_count": 21,
     "metadata": {},
     "output_type": "execute_result"
    }
   ],
   "source": [
    "gob_hab2, ugyu2"
   ]
  },
  {
   "cell_type": "code",
   "execution_count": null,
   "metadata": {},
   "outputs": [],
   "source": []
  }
 ],
 "metadata": {
  "kernelspec": {
   "display_name": "Python 3",
   "language": "python",
   "name": "python3"
  },
  "language_info": {
   "codemirror_mode": {
    "name": "ipython",
    "version": 3
   },
   "file_extension": ".py",
   "mimetype": "text/x-python",
   "name": "python",
   "nbconvert_exporter": "python",
   "pygments_lexer": "ipython3",
   "version": "3.8.3"
  }
 },
 "nbformat": 4,
 "nbformat_minor": 4
}
